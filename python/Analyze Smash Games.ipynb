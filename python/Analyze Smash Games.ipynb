{
 "cells": [
  {
   "cell_type": "code",
   "execution_count": 7,
   "metadata": {},
   "outputs": [],
   "source": [
    "import pandas as pd\n",
    "\n",
    "pd.set_option('display.max_columns', 6)\n",
    "pd.set_option('display.min_rows', 20)\n",
    "pd.set_option('display.max_rows', 20)"
   ]
  },
  {
   "cell_type": "code",
   "execution_count": 8,
   "metadata": {},
   "outputs": [],
   "source": [
    "df = pd.read_csv('data/full_raw_data.csv')\n",
    "\n",
    "# Remove ditto matches\n",
    "ditto_condition = df['Winner Character'] == df['Loser Character']\n",
    "df.drop(df[ditto_condition].index, inplace=True)\n",
    "\n",
    "# Remove matches fought on an unknown stage\n",
    "df.dropna(subset=['Stage Name'], inplace=True)\n",
    "\n",
    "# Remove matches with Random character\n",
    "random_char_condition = (df['Winner Character'] == 'Random Character') | (df['Loser Character'] == 'Random Character')\n",
    "df.drop(df[random_char_condition].index, inplace=True)\n",
    "\n",
    "# Remove matches with invalid characters\n",
    "invalid_chars = ['Jacqui Briggs']\n",
    "invalid_char_condition = (df['Winner Character'].isin(invalid_chars)) | (df['Loser Character'].isin(invalid_chars))\n",
    "df.drop(df[invalid_char_condition].index, inplace=True)\n",
    "\n",
    "# Remove any non-standard stages\n",
    "standard_stages = [\n",
    "    'Battlefield',\n",
    "    'Final Destination',\n",
    "    'Kalos Pokémon League',\n",
    "    'Lylat Cruise',\n",
    "    'Pokémon Stadium 2',\n",
    "    'Smashville',\n",
    "    'Town and City',\n",
    "    'Unova Pokémon League',\n",
    "    \"Yoshi's Island\",\n",
    "    \"Yoshi's Story\",\n",
    "]\n",
    "nonstandard_stage_condition = ~df['Stage Name'].isin(standard_stages)\n",
    "df.drop(df[nonstandard_stage_condition].index, inplace=True)\n",
    "\n",
    "# Replace character names\n",
    "df.replace(to_replace={\n",
    "    'Rosalina': 'Rosalina & Luma',\n",
    "    'Simon Belmont': 'Simon',\n",
    "    'Banjo-Kazooie': 'Banjo & Kazooie',\n",
    "    'Kalos Pokémon League': 'Kalos Pokemon League',\n",
    "    'Unova Pokémon League': 'Unova Pokemon League',\n",
    "    'Pokémon Stadium 2': 'Pokemon Stadium 2',\n",
    "}, inplace=True)"
   ]
  },
  {
   "cell_type": "code",
   "execution_count": 9,
   "metadata": {},
   "outputs": [],
   "source": [
    "def create_key(row):\n",
    "    char1, char2, stage = row\n",
    "    return ' '.join(sorted([char1, char2]) + [stage])\n",
    "\n",
    "new_column = df[['Winner Character', 'Loser Character', 'Stage Name']].apply(create_key, axis=1)\n",
    "df['Matchup Key'] = new_column"
   ]
  },
  {
   "cell_type": "code",
   "execution_count": 10,
   "metadata": {
    "scrolled": false
   },
   "outputs": [],
   "source": [
    "# Character matchups by stage\n",
    "\n",
    "wins_df = df.groupby(['Matchup Key', 'Winner Character', 'Loser Character', 'Stage Name']).count()\n",
    "wins_df.rename(columns={'Tournament ID': 'Count'}, inplace=True)\n",
    "wins_df.drop(columns=[c for c in wins_df.columns if c != 'Count'], inplace=True)\n",
    "wins_df.reset_index(inplace=True)\n",
    "\n",
    "total_df = df.groupby(['Matchup Key']).count()\n",
    "total_df.rename(columns={'Tournament ID': 'Total'}, inplace=True)\n",
    "total_df.drop(columns=[c for c in total_df.columns if c != 'Total'], inplace=True)\n",
    "total_df.reset_index(inplace=True)\n",
    "\n",
    "matchup_stats = wins_df.merge(total_df, how='outer', on='Matchup Key')\n",
    "\n",
    "matchup_stats.to_csv('data/matchup_stats.csv')"
   ]
  },
  {
   "cell_type": "code",
   "execution_count": 11,
   "metadata": {},
   "outputs": [],
   "source": [
    "# Overall character wins/losses\n",
    "\n",
    "char_wins_df = df.groupby('Winner Character').count()\n",
    "char_wins_df.reset_index(inplace=True)\n",
    "char_wins_df.rename(columns={'Winner Character': 'Character', 'Tournament ID': 'Wins'}, inplace=True)\n",
    "char_wins_df.drop(columns=[c for c in char_wins_df.columns if c not in ('Character', 'Wins')], inplace=True)\n",
    "\n",
    "char_losses_df = df.groupby('Loser Character').count()\n",
    "char_losses_df.reset_index(inplace=True)\n",
    "char_losses_df.rename(columns={'Loser Character': 'Character', 'Tournament ID': 'Losses'}, inplace=True)\n",
    "char_losses_df.drop(columns=[c for c in char_losses_df.columns if c not in ('Character', 'Losses')], inplace=True)\n",
    "\n",
    "char_stats = char_wins_df.merge(char_losses_df, how='outer', on='Character')\n",
    "\n",
    "char_stats.to_csv('data/overall_character_stats.csv')"
   ]
  },
  {
   "cell_type": "code",
   "execution_count": 12,
   "metadata": {},
   "outputs": [],
   "source": [
    "# Overall character wins/losses by stage\n",
    "\n",
    "stage_wins_df = df.groupby(['Stage Name', 'Winner Character']).count()\n",
    "stage_wins_df.reset_index(inplace=True)\n",
    "stage_wins_df.rename(columns={'Winner Character': 'Character', 'Matchup Key': 'Wins'}, inplace=True)\n",
    "stage_wins_df.drop(columns=[c for c in stage_wins_df.columns if c not in ('Stage Name', 'Character', 'Wins')], inplace=True)\n",
    "\n",
    "stage_losses_df = df.groupby(['Stage Name', 'Loser Character']).count()\n",
    "stage_losses_df.reset_index(inplace=True)\n",
    "stage_losses_df.rename(columns={'Loser Character': 'Character', 'Matchup Key': 'Losses'}, inplace=True)\n",
    "stage_losses_df.drop(columns=[c for c in stage_losses_df.columns if c not in ('Stage Name', 'Character', 'Losses')], inplace=True)\n",
    "\n",
    "stage_stats = stage_wins_df.merge(stage_losses_df, how='outer', on=['Stage Name', 'Character'])\n",
    "stage_stats.fillna(0, inplace=True)\n",
    "stage_stats = stage_stats.astype({'Wins': int, 'Losses': int})\n",
    "\n",
    "stage_stats.to_csv('data/overall_stage_stats.csv')"
   ]
  },
  {
   "cell_type": "code",
   "execution_count": null,
   "metadata": {},
   "outputs": [],
   "source": []
  }
 ],
 "metadata": {
  "kernelspec": {
   "display_name": "Python 3",
   "language": "python",
   "name": "python3"
  },
  "language_info": {
   "codemirror_mode": {
    "name": "ipython",
    "version": 3
   },
   "file_extension": ".py",
   "mimetype": "text/x-python",
   "name": "python",
   "nbconvert_exporter": "python",
   "pygments_lexer": "ipython3",
   "version": "3.7.8"
  }
 },
 "nbformat": 4,
 "nbformat_minor": 2
}
