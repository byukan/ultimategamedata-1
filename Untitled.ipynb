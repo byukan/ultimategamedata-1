{
 "cells": [
  {
   "cell_type": "code",
   "execution_count": 4,
   "id": "a8e6cfb4",
   "metadata": {},
   "outputs": [
    {
     "name": "stdout",
     "output_type": "stream",
     "text": [
      "python3: can't open file '/Users/byukan/ultimategamedata/fetch/download.py': [Errno 2] No such file or directory\r\n"
     ]
    }
   ],
   "source": [
    "!cd python/\n",
    "!python3 fetch/download.py events"
   ]
  },
  {
   "cell_type": "code",
   "execution_count": null,
   "id": "d5fedd70",
   "metadata": {},
   "outputs": [],
   "source": []
  }
 ],
 "metadata": {
  "kernelspec": {
   "display_name": "Python 3 (ipykernel)",
   "language": "python",
   "name": "python3"
  },
  "language_info": {
   "codemirror_mode": {
    "name": "ipython",
    "version": 3
   },
   "file_extension": ".py",
   "mimetype": "text/x-python",
   "name": "python",
   "nbconvert_exporter": "python",
   "pygments_lexer": "ipython3",
   "version": "3.9.12"
  }
 },
 "nbformat": 4,
 "nbformat_minor": 5
}
